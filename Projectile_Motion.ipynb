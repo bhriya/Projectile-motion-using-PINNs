{
  "cells": [
    {
      "cell_type": "markdown",
      "source": [
        "# Projectile Motion using PINNs\n"
      ],
      "metadata": {
        "id": "kFoFNsZoVhBd"
      }
    },
    {
      "cell_type": "markdown",
      "source": [
        "Physics Informed Neural Networks (PINNs) lie at the intersection of the traditional physics based methods and data driven Neural Networks. Using data-driven supervised neural networks to learn the model, but also using physics equations that are given to the model to encourage consistency with the known physics of the system. They have the advantage of being both data-driven to learn a model, but also able to ensure consistency with the physics, as well as being able to extrapolate accurately beyond the available data."
      ],
      "metadata": {
        "id": "tLQxJPikB64Z"
      }
    },
    {
      "cell_type": "markdown",
      "source": [
        "Let us consider the function of projectile motion (a projectile in free-fall) with the effects of gravity and drag. We know something about this problem already, in terms of the physics equations that describe projectile motion, and the relationships between them.\n",
        "\n",
        "The equation of projectile motion in terms of the displacement(f) is as follows:\n",
        "\n",
        "$\\frac{d^{2}\\textbf{f}}{dt^{2}} = \\mu\\bigg|\\bigg|\\frac{d\\textbf{f}}{dt}\\bigg|\\bigg|\\frac{d\\textbf{f}}{dt} - g$\n",
        "\n",
        "The goal is to solve for the displacement vector f as a function of time t.\n",
        "\n",
        "\n"
      ],
      "metadata": {
        "id": "lfawRfHbDUOW"
      }
    },
    {
      "cell_type": "code",
      "execution_count": null,
      "metadata": {
        "id": "lIfnrp2ttYTq"
      },
      "outputs": [],
      "source": [
        "# importing necessary libraries\n",
        "import numpy as np\n",
        "import matplotlib.pyplot as plt\n",
        "import tensorflow as tf\n",
        "from scipy.integrate import solve_ivp"
      ]
    },
    {
      "cell_type": "markdown",
      "source": [
        "Numerical solution(for comparison) of the displacement-(Sx,Sy), for projectile motion with initial velocity 50m/s and angle of throw- 65 degrees."
      ],
      "metadata": {
        "id": "FTjIuH0EQQr0"
      }
    },
    {
      "cell_type": "code",
      "execution_count": null,
      "metadata": {
        "colab": {
          "base_uri": "https://localhost:8080/",
          "height": 518
        },
        "id": "n5jn3htILagj",
        "outputId": "119b7a4f-2b00-41d4-8ee2-69d9bbd90b72"
      },
      "outputs": [
        {
          "output_type": "stream",
          "name": "stdout",
          "text": [
            "Time to target = 6.34 s\n",
            "Time to highest point = 2.79 s\n",
            "Range to target, xmax = 64.12 m\n",
            "Maximum height, zmax = 49.42 m\n"
          ]
        },
        {
          "output_type": "display_data",
          "data": {
            "text/plain": [
              "<Figure size 640x480 with 1 Axes>"
            ],
            "image/png": "[encoded data removed]"
          },
          "metadata": {}
        }
      ],
      "source": [
        "# Drag coefficient, projectile radius (m), area (m2) and mass (kg).\n",
        "c = 0.47\n",
        "r = 0.05\n",
        "A = np.pi * r**2\n",
        "m = 0.2\n",
        "# Air density (kg.m-3), acceleration due to gravity (m.s-2).\n",
        "rho_air = 1.28\n",
        "g = 9.81\n",
        "# For convenience, define  this constant.\n",
        "k = 0.5 * c * rho_air * A\n",
        "\n",
        "# Initial speed and launch angle (from the horizontal).\n",
        "v0 = 50\n",
        "phi0 = np.radians(65)\n",
        "\n",
        "def deriv(t, u):\n",
        "    x, xdot, z, zdot = u\n",
        "    speed = np.hypot(xdot, zdot)\n",
        "    xdotdot = -k/m * speed * xdot\n",
        "    zdotdot = -k/m * speed * zdot - g\n",
        "    return xdot, xdotdot, zdot, zdotdot\n",
        "\n",
        "# Initial conditions: x0, v0_x, z0, v0_z.\n",
        "u0 = 0, v0 * np.cos(phi0), 0., v0 * np.sin(phi0)\n",
        "# Integrate up to tf unless we hit the target sooner.\n",
        "t0, tf = 0, 50\n",
        "\n",
        "def hit_target(t, u):\n",
        "    # We've hit the target if the z-coordinate is 0.\n",
        "    return u[2]\n",
        "# Stop the integration when we hit the target.\n",
        "hit_target.terminal = True\n",
        "# We must be moving downwards (don't stop before we begin moving upwards!)\n",
        "hit_target.direction = -1\n",
        "\n",
        "def max_height(t, u):\n",
        "    # The maximum height is obtained when the z-velocity is zero.\n",
        "    return u[3]\n",
        "\n",
        "soln = solve_ivp(deriv, (t0, tf), u0, dense_output=True,\n",
        "                 events=(hit_target, max_height))\n",
        "#print(soln)\n",
        "print('Time to target = {:.2f} s'.format(soln.t_events[0][0]))\n",
        "print('Time to highest point = {:.2f} s'.format(soln.t_events[1][0]))\n",
        "\n",
        "# A fine grid of time points from 0 until impact time.\n",
        "t = np.linspace(0, soln.t_events[0][0], 100)\n",
        "\n",
        "# Retrieve the solution for the time grid and plot the trajectory.\n",
        "sol = soln.sol(t)\n",
        "sx, sy = sol[0], sol[2]\n",
        "print('Range to target, xmax = {:.2f} m'.format(sx[-1]))\n",
        "print('Maximum height, zmax = {:.2f} m'.format(max(sy)))\n",
        "plt.plot(sx, sy)\n",
        "plt.xlabel('Sx /m')\n",
        "plt.ylabel('Sy /m')\n",
        "plt.show()"
      ]
    },
    {
      "cell_type": "code",
      "execution_count": null,
      "metadata": {
        "id": "kLMFu6PLLegP"
      },
      "outputs": [],
      "source": [
        "mu = k/m\n",
        "train_data_size = 500"
      ]
    },
    {
      "cell_type": "markdown",
      "source": [
        "**PINNs model for approximating projectile motion solution**"
      ],
      "metadata": {
        "id": "hmzCnkIzWKkt"
      }
    },
    {
      "cell_type": "code",
      "execution_count": null,
      "metadata": {
        "id": "5EDYC3qYN5iT"
      },
      "outputs": [],
      "source": [
        "def train_data():\n",
        "  y = []\n",
        "  for i in range(0,train_data_size):\n",
        "      y0 = tf.Variable(6.34*np.random.rand(),trainable=True)\n",
        "      y.append(y0)\n",
        "  y = tf.reshape(tf.convert_to_tensor(y, dtype = tf.float32),(train_data_size,1))\n",
        "  return y\n",
        "y = train_data()"
      ]
    },
    {
      "cell_type": "code",
      "execution_count": null,
      "metadata": {
        "id": "6UOqA8A9u5Xc"
      },
      "outputs": [],
      "source": [
        "def init_model(num_hidden_layers=8, num_neurons_per_layer=100):\n",
        "    # Initialize a feedforward neural network\n",
        "    model = tf.keras.Sequential()\n",
        "    # Input is 1-dimensional (one spatial dimension)\n",
        "    model.add(tf.keras.Input(1))\n",
        "    # Append hidden layers\n",
        "    for _ in range(num_hidden_layers-3):\n",
        "        model.add(tf.keras.layers.Dense(num_neurons_per_layer,\n",
        "            activation=tf.keras.activations.get('sigmoid'),\n",
        "            kernel_initializer='glorot_normal'))\n",
        "    model.add(tf.keras.layers.Dense(num_neurons_per_layer))\n",
        "    model.add(tf.keras.layers.Dense(num_neurons_per_layer))\n",
        "    model.add(tf.keras.layers.Dense(num_neurons_per_layer))\n",
        "    # Output is two-dimensional\n",
        "    model.add(tf.keras.layers.Dense(2))\n",
        "    return model"
      ]
    },
    {
      "cell_type": "code",
      "source": [
        "model = init_model()"
      ],
      "metadata": {
        "id": "RhxH77HMLwvH"
      },
      "execution_count": null,
      "outputs": []
    },
    {
      "cell_type": "code",
      "execution_count": null,
      "metadata": {
        "id": "nFJucpxyxyd8"
      },
      "outputs": [],
      "source": [
        "def gradients_x(t):\n",
        "    t = tf.reshape(t, [len(t),1], name=None)\n",
        "    with tf.GradientTape() as tape2:\n",
        "         with tf.GradientTape() as tape1:\n",
        "              tape1.watch(t)\n",
        "              s = model(t)\n",
        "              s_x = tf.reshape(s[:,0],[len(t),1],name=None)\n",
        "         dsx_dt = tape1.gradient(s_x,t)\n",
        "         tape2.watch(t)\n",
        "    d2sx_dt2 = tape2.gradient(dsx_dt,t)\n",
        "    return dsx_dt, d2sx_dt2\n",
        "def gradients_y(t):\n",
        "    t = tf.reshape(t, [len(t),1], name=None)\n",
        "    with tf.GradientTape() as tape2:\n",
        "         with tf.GradientTape() as tape1:\n",
        "              tape1.watch(t)\n",
        "              s = model(t)\n",
        "              s_y = tf.reshape(s[:,1],[len(t),1],name=None)\n",
        "         dsy_dt = tape1.gradient(s_y,t)\n",
        "         tape2.watch(t)\n",
        "    d2sy_dt2 = tape2.gradient(dsy_dt,t)\n",
        "    return dsy_dt, d2sy_dt2"
      ]
    },
    {
      "cell_type": "code",
      "execution_count": null,
      "metadata": {
        "id": "ttEI9W8n1lXF"
      },
      "outputs": [],
      "source": [
        "def loss_function_ode(t_train):\n",
        "    t = t_train\n",
        "    dsx_dt, d2sx_dt2 = gradients_x(t)\n",
        "    dsy_dt, d2sy_dt2 = gradients_y(t)\n",
        "    l1 = (d2sx_dt2 + mu*np.sqrt(dsx_dt**2 + dsy_dt**2)*dsx_dt)**2\n",
        "    l2 = (d2sy_dt2 + mu*np.sqrt(dsx_dt**2 + dsy_dt**2)*dsy_dt + g)**2\n",
        "    l = l1 + l2\n",
        "    return 10*tf.reduce_mean(l)"
      ]
    },
    {
      "cell_type": "code",
      "execution_count": null,
      "metadata": {
        "id": "uvttXaof4k5H"
      },
      "outputs": [],
      "source": [
        "def loss_initial_cond():\n",
        "  t_0 = tf.Variable(0, trainable=True, dtype=tf.float32)\n",
        "  t_0 = tf.reshape(t_0, [1,1], name=None)\n",
        "  s = model(t_0)\n",
        "  s_x = tf.reshape(s[0,0],[1,1],name=None)\n",
        "  s_y = tf.reshape(s[0,1],[1,1],name=None)\n",
        "  loss_sx0 = (s_x-0)**2\n",
        "  loss_sy0 = (s_y-0)**2\n",
        "  dsx_dt, d2sx_dt2 = gradients_x(t_0)\n",
        "  dsy_dt, d2sy_dt2 = gradients_y(t_0)\n",
        "  loss_v_0_x = (dsx_dt-v0*np.cos(phi0))**2\n",
        "  loss_v_0_y = (dsy_dt-v0*np.sin(phi0))**2\n",
        "  return tf.reduce_mean(loss_v_0_x) + tf.reduce_mean(loss_v_0_y) + tf.reduce_mean(loss_sx0) + tf.reduce_mean(loss_sy0)"
      ]
    },
    {
      "cell_type": "code",
      "execution_count": null,
      "metadata": {
        "id": "j2OzT5GxCNjq"
      },
      "outputs": [],
      "source": [
        "optimizer = tf.optimizers.Adam(learning_rate = 0.01)"
      ]
    },
    {
      "cell_type": "code",
      "source": [
        "def train_step():\n",
        "  with tf.GradientTape() as tape:\n",
        "       tape.watch(model.trainable_variables)\n",
        "       loss = loss_function_ode(y) + loss_initial_cond()\n",
        "  gradients = tape.gradient(loss, model.trainable_variables)\n",
        "  optimizer.apply_gradients([\n",
        "          (grad, var)\n",
        "          for (grad, var) in zip(gradients, model.trainable_variables)\n",
        "          if grad is not None\n",
        "        ])"
      ],
      "metadata": {
        "id": "uIIdYXmhGhtI"
      },
      "execution_count": null,
      "outputs": []
    },
    {
      "cell_type": "code",
      "execution_count": null,
      "metadata": {
        "id": "oiNOwogyBaU-"
      },
      "outputs": [],
      "source": [
        "# Training the Model:\n",
        "displaystep = 20\n",
        "hist = []\n",
        "for i in range(2000):\n",
        "  train_step()\n",
        "  if i % displaystep == 0:\n",
        "     total_loss = loss_function_ode(y) + loss_initial_cond()\n",
        "     hist.append(total_loss.numpy())\n",
        "     y_sample = np.arange(0, 6.35, 0.005)\n",
        "     proto_tensor = tf.make_tensor_proto(y_sample)\n",
        "     y_ = tf.make_ndarray(proto_tensor)\n",
        "     out = tf.reshape(model(y_),[len(y_),2])\n",
        "     sx_ = out[:,0]\n",
        "     sy_ = out[:,1]\n",
        "     sx_ = tf.reshape(sx_, [len(y_)], name=None)\n",
        "     sy_ = tf.reshape(sy_, [len(y_)], name=None)\n",
        "     proto_tensor1= tf.make_tensor_proto(sx_)\n",
        "     proto_tensor2= tf.make_tensor_proto(sy_)\n",
        "     sx_ = tf.make_ndarray(proto_tensor1)\n",
        "     sy_ = tf.make_ndarray(proto_tensor2)\n",
        "     plt.plot(sx, sy, color='red')\n",
        "     plt.plot(sx_, sy_, color='blue')\n",
        "     plt.xlabel('Sx')\n",
        "     plt.ylabel('Sy')\n",
        "     # save the plots of numerical solutions vs neural network solutions\n",
        "     '''plt.savefig(\"/content/drive/MyDrive/projectile_motion/plots/value{i}.png\".format(i=i))'''\n",
        "     plt.clf()\n",
        "     print(\"loss: %f \" % total_loss)"
      ]
    },
    {
      "cell_type": "code",
      "source": [
        "# code to display the saved plots\n",
        "# red plot represents neural network solution, blue plot represents numerical solution\n",
        "import matplotlib.pyplot as plt\n",
        "import matplotlib.image as mpimg\n",
        "'''img = plt.imread('/content/drive/MyDrive/projectile_motion/plots/fig.png')'''\n",
        "imgplot = plt.imshow(img)\n",
        "plt.show()'''"
      ],
      "metadata": {
        "colab": {
          "base_uri": "https://localhost:8080/",
          "height": 497
        },
        "id": "RywTVASrTXlI",
        "outputId": "b8799c13-ef74-4776-98a0-b5ebc0b7edfb"
      },
      "execution_count": null,
      "outputs": [
        {
          "output_type": "display_data",
          "data": {
            "text/plain": [
              "<PIL.Image.Image image mode=RGB size=640x480 at 0x7F435203F820>"
            ],
            "image/png": "[encoded data removed]"
          },
          "metadata": {}
        }
      ]
    }
  ],
  "metadata": {
    "accelerator": "GPU",
    "colab": {
      "provenance": [],
      "gpuType": "T4"
    },
    "gpuClass": "standard",
    "kernelspec": {
      "display_name": "Python 3",
      "name": "python3"
    },
    "language_info": {
      "name": "python"
    }
  },
  "nbformat": 4,
  "nbformat_minor": 0
}